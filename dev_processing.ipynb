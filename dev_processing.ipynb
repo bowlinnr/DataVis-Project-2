{
 "cells": [
  {
   "cell_type": "code",
   "execution_count": 2,
   "metadata": {},
   "outputs": [],
   "source": [
    "#114955\n",
    "#df.groupby(['zipcode']).count().sort_values(\"status\", ascending=False)\n"
   ]
  },
  {
   "cell_type": "code",
   "execution_count": 2,
   "metadata": {},
   "outputs": [],
   "source": [
    "import pandas as pd\n",
    "import datetime\n",
    "\n",
    "pd.set_option('display.max_rows', None)\n",
    "\n",
    "df = pd.read_csv(\"Project 2/data/cincy311_cleaned.tsv\", sep='|', header=0)\n",
    "\n",
    "df_2021 = df[df['requested_datetime'].str.contains(\"2021\")]\n",
    "\n",
    "df_2021.to_csv('Project 2/data/cincy311_cleaned_2021.tsv', sep='|')\n",
    "\n",
    "df_2021_bucketed = pd.read_csv(\"Project 2/data/cincy311_cleaned_2021.tsv\", sep='|', header=0)\n",
    "def bucket_time(row):\n",
    "    time = datetime.datetime.fromisoformat(row['updated_datetime'])-datetime.datetime.fromisoformat(row[\"requested_datetime\"])\n",
    "    if time <= datetime.timedelta(days=1):\n",
    "        return \"0-1\"\n",
    "    elif time <= datetime.timedelta(days=5):\n",
    "        return \"2-5\"\n",
    "    elif time <= datetime.timedelta(days=10):\n",
    "        return \"5-10\"\n",
    "    elif time <= datetime.timedelta(days=20):\n",
    "        return \"10-20\"\n",
    "    else:\n",
    "        return \"21+\"\n",
    "    \n",
    "df_2021_bucketed[\"days_bucket\"]  = df_2021_bucketed.apply(lambda row: bucket_time(row), axis=1)\n",
    "\n",
    "df_2021_bucketed.to_csv('Project 2/data/cincy311_cleaned_2021_bucketed.tsv', sep='|')"
   ]
  },
  {
   "cell_type": "code",
   "execution_count": null,
   "metadata": {},
   "outputs": [],
   "source": []
  }
 ],
 "metadata": {
  "kernelspec": {
   "display_name": "Python 3 (ipykernel)",
   "language": "python",
   "name": "python3"
  },
  "language_info": {
   "codemirror_mode": {
    "name": "ipython",
    "version": 3
   },
   "file_extension": ".py",
   "mimetype": "text/x-python",
   "name": "python",
   "nbconvert_exporter": "python",
   "pygments_lexer": "ipython3",
   "version": "3.10.10"
  }
 },
 "nbformat": 4,
 "nbformat_minor": 2
}
